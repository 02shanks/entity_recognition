{
 "cells": [
  {
   "cell_type": "code",
   "execution_count": 1,
   "id": "8c652fa2",
   "metadata": {},
   "outputs": [],
   "source": [
    "# !pip install transformers"
   ]
  },
  {
   "cell_type": "code",
   "execution_count": 2,
   "id": "27461fa8",
   "metadata": {},
   "outputs": [
    {
     "data": {
      "text/html": [
       "<div>\n",
       "<style scoped>\n",
       "    .dataframe tbody tr th:only-of-type {\n",
       "        vertical-align: middle;\n",
       "    }\n",
       "\n",
       "    .dataframe tbody tr th {\n",
       "        vertical-align: top;\n",
       "    }\n",
       "\n",
       "    .dataframe thead th {\n",
       "        text-align: right;\n",
       "    }\n",
       "</style>\n",
       "<table border=\"1\" class=\"dataframe\">\n",
       "  <thead>\n",
       "    <tr style=\"text-align: right;\">\n",
       "      <th></th>\n",
       "      <th>review</th>\n",
       "      <th>Sentiment</th>\n",
       "      <th>words_entity_spacy</th>\n",
       "      <th>words_entity_bert</th>\n",
       "    </tr>\n",
       "  </thead>\n",
       "  <tbody>\n",
       "    <tr>\n",
       "      <th>0</th>\n",
       "      <td>Amazed by the swift and productive telephone c...</td>\n",
       "      <td>POSITIVE</td>\n",
       "      <td></td>\n",
       "      <td></td>\n",
       "    </tr>\n",
       "    <tr>\n",
       "      <th>1</th>\n",
       "      <td>Tony Robbins, Dean Graziosi &amp;amp; Russell Brun...</td>\n",
       "      <td>NEUTRAL</td>\n",
       "      <td></td>\n",
       "      <td></td>\n",
       "    </tr>\n",
       "    <tr>\n",
       "      <th>2</th>\n",
       "      <td>I am growing increasingly concerned . I switch...</td>\n",
       "      <td>NEGATIVE</td>\n",
       "      <td></td>\n",
       "      <td></td>\n",
       "    </tr>\n",
       "    <tr>\n",
       "      <th>3</th>\n",
       "      <td>Want to write my childrens book. Need to ask ...</td>\n",
       "      <td>NEUTRAL</td>\n",
       "      <td></td>\n",
       "      <td></td>\n",
       "    </tr>\n",
       "    <tr>\n",
       "      <th>4</th>\n",
       "      <td>Transferred money over from another account. M...</td>\n",
       "      <td>NEGATIVE</td>\n",
       "      <td></td>\n",
       "      <td></td>\n",
       "    </tr>\n",
       "  </tbody>\n",
       "</table>\n",
       "</div>"
      ],
      "text/plain": [
       "                                              review Sentiment  \\\n",
       "0  Amazed by the swift and productive telephone c...  POSITIVE   \n",
       "1  Tony Robbins, Dean Graziosi &amp; Russell Brun...   NEUTRAL   \n",
       "2  I am growing increasingly concerned . I switch...  NEGATIVE   \n",
       "3  Want to write my childrens book. Need to ask ...   NEUTRAL   \n",
       "4  Transferred money over from another account. M...  NEGATIVE   \n",
       "\n",
       "  words_entity_spacy words_entity_bert  \n",
       "0                                       \n",
       "1                                       \n",
       "2                                       \n",
       "3                                       \n",
       "4                                       "
      ]
     },
     "execution_count": 2,
     "metadata": {},
     "output_type": "execute_result"
    }
   ],
   "source": [
    "import pandas as pd\n",
    "\n",
    "df = pd.read_csv(\"SentimentAnalysis - sentiment.csv\")\n",
    "df[\"words_entity_spacy\"]=\"\"\n",
    "df['words_entity_bert']=\"\"\n",
    "df.head()"
   ]
  },
  {
   "cell_type": "code",
   "execution_count": 3,
   "id": "7807ef7d",
   "metadata": {},
   "outputs": [],
   "source": [
    "import re\n",
    "\n",
    "def remove_tags_char_spaces(sen):\n",
    "    # Function to remove html tags is called\n",
    "    sentence = re.sub(r'http\\S+', '', sen)\n",
    "\n",
    "    # Single character removal\n",
    "    sentence = re.sub(r\"\\s+[a-zA-Z]\\s+\", ' ', sentence)\n",
    "\n",
    "    # Removing multiple spaces\n",
    "    sentence = re.sub(r'\\s+', ' ', sentence)\n",
    "\n",
    "    return sentence\n",
    "\n",
    "def preprocess(text):\n",
    "    text = remove_tags_char_spaces(text)   # REMOVING UNWANTED SPACES\n",
    "    return text ## RETURNING THE PROCESSED TEXT"
   ]
  },
  {
   "cell_type": "code",
   "execution_count": 4,
   "id": "087dbb2f",
   "metadata": {},
   "outputs": [],
   "source": [
    "input_texts=[]\n",
    "for review in df.review.values:\n",
    "    input_texts.append(preprocess(review))"
   ]
  },
  {
   "cell_type": "markdown",
   "id": "fdb6ca8d",
   "metadata": {},
   "source": [
    "## Using BERT(transformer)"
   ]
  },
  {
   "cell_type": "code",
   "execution_count": 5,
   "id": "ace9743f",
   "metadata": {},
   "outputs": [],
   "source": [
    "from transformers import pipeline\n",
    "from transformers import AutoTokenizer, AutoModelForTokenClassification\n",
    "\n",
    "# load model and tokenizer\n",
    "model_name=\"dslim/bert-base-NER\"\n",
    "tokenizer = AutoTokenizer.from_pretrained(model_name)\n",
    "model = AutoModelForTokenClassification.from_pretrained(model_name)\n",
    "\n",
    "nlp = pipeline(\"ner\", model=model, tokenizer=tokenizer)"
   ]
  },
  {
   "cell_type": "code",
   "execution_count": 6,
   "id": "4a4bb380",
   "metadata": {},
   "outputs": [
    {
     "name": "stdout",
     "output_type": "stream",
     "text": [
      " Original:  Tony Robbins, Dean Graziosi &amp; Russell Brunson GO LIVE! \n",
      "Tokenized:  ['Tony', 'Robbins', ',', 'Dean', 'G', '##raz', '##ios', '##i', '&', 'am', '##p', ';', 'Russell', 'B', '##run', '##son', 'GO', 'L', '##IVE', '!']\n",
      "Token IDs:  [3270, 19462, 117, 4285, 144, 15265, 10714, 1182, 111, 1821, 1643, 132, 5023, 139, 10607, 2142, 27157, 149, 26140, 106]\n"
     ]
    }
   ],
   "source": [
    "print(' Original: ', input_texts[1])\n",
    "print('Tokenized: ', tokenizer.tokenize(input_texts[1]))\n",
    "print('Token IDs: ', tokenizer.convert_tokens_to_ids(tokenizer.tokenize(input_texts[1])))"
   ]
  },
  {
   "attachments": {
    "Screenshot%20from%202022-11-06%2019-20-50.png": {
     "image/png": "[encoded data removed]"
    }
   },
   "cell_type": "markdown",
   "id": "5648650f",
   "metadata": {},
   "source": [
    "![Screenshot%20from%202022-11-06%2019-20-50.png](attachment:Screenshot%20from%202022-11-06%2019-20-50.png)"
   ]
  },
  {
   "cell_type": "code",
   "execution_count": 7,
   "id": "0dc2aba0",
   "metadata": {},
   "outputs": [
    {
     "name": "stdout",
     "output_type": "stream",
     "text": [
      " Original:  T\n",
      "     word: Tony\n",
      "   entity:  B-PER\n"
     ]
    }
   ],
   "source": [
    "ner_ouput = nlp(input_texts[1])\n",
    "print(' Original: ', input_texts[1][0])\n",
    "print('     word:', ner_ouput[0]['word'])\n",
    "print('   entity: ',ner_ouput[0]['entity'])"
   ]
  },
  {
   "cell_type": "code",
   "execution_count": 8,
   "id": "26fe4801",
   "metadata": {},
   "outputs": [],
   "source": [
    "for i in range(len(input_texts)):\n",
    "    ner_ouput = nlp(input_texts[i])\n",
    "    words_entity=[]\n",
    "    for j in range(len(ner_ouput)):\n",
    "        word, entity = ner_ouput[j]['word'], ner_ouput[j]['entity']\n",
    "        words_entity.append((word, entity))\n",
    "    df.words_entity_bert[i]= words_entity\n",
    "    "
   ]
  },
  {
   "cell_type": "code",
   "execution_count": 9,
   "id": "7eca8cba",
   "metadata": {},
   "outputs": [
    {
     "data": {
      "text/html": [
       "<div>\n",
       "<style scoped>\n",
       "    .dataframe tbody tr th:only-of-type {\n",
       "        vertical-align: middle;\n",
       "    }\n",
       "\n",
       "    .dataframe tbody tr th {\n",
       "        vertical-align: top;\n",
       "    }\n",
       "\n",
       "    .dataframe thead th {\n",
       "        text-align: right;\n",
       "    }\n",
       "</style>\n",
       "<table border=\"1\" class=\"dataframe\">\n",
       "  <thead>\n",
       "    <tr style=\"text-align: right;\">\n",
       "      <th></th>\n",
       "      <th>review</th>\n",
       "      <th>Sentiment</th>\n",
       "      <th>words_entity_spacy</th>\n",
       "      <th>words_entity_bert</th>\n",
       "    </tr>\n",
       "  </thead>\n",
       "  <tbody>\n",
       "    <tr>\n",
       "      <th>0</th>\n",
       "      <td>Amazed by the swift and productive telephone c...</td>\n",
       "      <td>POSITIVE</td>\n",
       "      <td></td>\n",
       "      <td>[]</td>\n",
       "    </tr>\n",
       "    <tr>\n",
       "      <th>1</th>\n",
       "      <td>Tony Robbins, Dean Graziosi &amp;amp; Russell Brun...</td>\n",
       "      <td>NEUTRAL</td>\n",
       "      <td></td>\n",
       "      <td>[(Tony, B-PER), (Robbins, I-PER), (Dean, B-PER...</td>\n",
       "    </tr>\n",
       "    <tr>\n",
       "      <th>2</th>\n",
       "      <td>I am growing increasingly concerned . I switch...</td>\n",
       "      <td>NEGATIVE</td>\n",
       "      <td></td>\n",
       "      <td>[(Nat, B-ORG), (##W, I-ORG), (##est, I-ORG), (...</td>\n",
       "    </tr>\n",
       "    <tr>\n",
       "      <th>3</th>\n",
       "      <td>Want to write my childrens book. Need to ask ...</td>\n",
       "      <td>NEUTRAL</td>\n",
       "      <td></td>\n",
       "      <td>[]</td>\n",
       "    </tr>\n",
       "    <tr>\n",
       "      <th>4</th>\n",
       "      <td>Transferred money over from another account. M...</td>\n",
       "      <td>NEGATIVE</td>\n",
       "      <td></td>\n",
       "      <td>[]</td>\n",
       "    </tr>\n",
       "  </tbody>\n",
       "</table>\n",
       "</div>"
      ],
      "text/plain": [
       "                                              review Sentiment  \\\n",
       "0  Amazed by the swift and productive telephone c...  POSITIVE   \n",
       "1  Tony Robbins, Dean Graziosi &amp; Russell Brun...   NEUTRAL   \n",
       "2  I am growing increasingly concerned . I switch...  NEGATIVE   \n",
       "3  Want to write my childrens book. Need to ask ...   NEUTRAL   \n",
       "4  Transferred money over from another account. M...  NEGATIVE   \n",
       "\n",
       "  words_entity_spacy                                  words_entity_bert  \n",
       "0                                                                    []  \n",
       "1                     [(Tony, B-PER), (Robbins, I-PER), (Dean, B-PER...  \n",
       "2                     [(Nat, B-ORG), (##W, I-ORG), (##est, I-ORG), (...  \n",
       "3                                                                    []  \n",
       "4                                                                    []  "
      ]
     },
     "execution_count": 9,
     "metadata": {},
     "output_type": "execute_result"
    }
   ],
   "source": [
    "df.head()"
   ]
  },
  {
   "cell_type": "markdown",
   "id": "920b8ee5",
   "metadata": {},
   "source": [
    "## Using Spacy"
   ]
  },
  {
   "cell_type": "code",
   "execution_count": 10,
   "id": "f2e0df81",
   "metadata": {},
   "outputs": [],
   "source": [
    "import spacy\n",
    "\n",
    "#load model\n",
    "nlp = spacy.load(\"en_core_web_sm\")"
   ]
  },
  {
   "cell_type": "code",
   "execution_count": 12,
   "id": "42890298",
   "metadata": {},
   "outputs": [
    {
     "name": "stdout",
     "output_type": "stream",
     "text": [
      "Amazed by the swift and productive telephone customer service @santanderuk made my day.\n",
      "Text:  @santanderuk  |  label:  GPE  |  Countries, cities, states\n"
     ]
    }
   ],
   "source": [
    "## Example\n",
    "print(input_texts[0])\n",
    "doc = nlp(input_texts[0])\n",
    "for ent in doc.ents:\n",
    "    print(\"Text: \",ent.text, \" | \",\"label: \", ent.label_, \" | \", spacy.explain(ent.label_))"
   ]
  },
  {
   "cell_type": "code",
   "execution_count": 15,
   "id": "9c94bdcb",
   "metadata": {},
   "outputs": [],
   "source": [
    "for i in range(len(input_texts)):\n",
    "        doc = nlp(input_texts[i])\n",
    "        words_entity=[]    \n",
    "        for ent in doc.ents:\n",
    "            words_entity.append((ent.text,spacy.explain(ent.label_)))\n",
    "\n",
    "        df.words_entity_spacy[i]=words_entity\n",
    "        \n",
    "        \n",
    "        "
   ]
  },
  {
   "cell_type": "code",
   "execution_count": 16,
   "id": "daf155ed",
   "metadata": {},
   "outputs": [
    {
     "data": {
      "text/html": [
       "<div>\n",
       "<style scoped>\n",
       "    .dataframe tbody tr th:only-of-type {\n",
       "        vertical-align: middle;\n",
       "    }\n",
       "\n",
       "    .dataframe tbody tr th {\n",
       "        vertical-align: top;\n",
       "    }\n",
       "\n",
       "    .dataframe thead th {\n",
       "        text-align: right;\n",
       "    }\n",
       "</style>\n",
       "<table border=\"1\" class=\"dataframe\">\n",
       "  <thead>\n",
       "    <tr style=\"text-align: right;\">\n",
       "      <th></th>\n",
       "      <th>review</th>\n",
       "      <th>Sentiment</th>\n",
       "      <th>words_entity_spacy</th>\n",
       "      <th>words_entity_bert</th>\n",
       "    </tr>\n",
       "  </thead>\n",
       "  <tbody>\n",
       "    <tr>\n",
       "      <th>0</th>\n",
       "      <td>Amazed by the swift and productive telephone c...</td>\n",
       "      <td>POSITIVE</td>\n",
       "      <td>[(@santanderuk, Countries, cities, states)]</td>\n",
       "      <td>[]</td>\n",
       "    </tr>\n",
       "    <tr>\n",
       "      <th>1</th>\n",
       "      <td>Tony Robbins, Dean Graziosi &amp;amp; Russell Brun...</td>\n",
       "      <td>NEUTRAL</td>\n",
       "      <td>[(Tony Robbins, People, including fictional), ...</td>\n",
       "      <td>[(Tony, B-PER), (Robbins, I-PER), (Dean, B-PER...</td>\n",
       "    </tr>\n",
       "    <tr>\n",
       "      <th>2</th>\n",
       "      <td>I am growing increasingly concerned . I switch...</td>\n",
       "      <td>NEGATIVE</td>\n",
       "      <td>[(NatWest, Companies, agencies, institutions, ...</td>\n",
       "      <td>[(Nat, B-ORG), (##W, I-ORG), (##est, I-ORG), (...</td>\n",
       "    </tr>\n",
       "    <tr>\n",
       "      <th>3</th>\n",
       "      <td>Want to write my childrens book. Need to ask ...</td>\n",
       "      <td>NEUTRAL</td>\n",
       "      <td>[(about 7500, Numerals that do not fall under ...</td>\n",
       "      <td>[]</td>\n",
       "    </tr>\n",
       "    <tr>\n",
       "      <th>4</th>\n",
       "      <td>Transferred money over from another account. M...</td>\n",
       "      <td>NEGATIVE</td>\n",
       "      <td>[]</td>\n",
       "      <td>[]</td>\n",
       "    </tr>\n",
       "  </tbody>\n",
       "</table>\n",
       "</div>"
      ],
      "text/plain": [
       "                                              review Sentiment  \\\n",
       "0  Amazed by the swift and productive telephone c...  POSITIVE   \n",
       "1  Tony Robbins, Dean Graziosi &amp; Russell Brun...   NEUTRAL   \n",
       "2  I am growing increasingly concerned . I switch...  NEGATIVE   \n",
       "3  Want to write my childrens book. Need to ask ...   NEUTRAL   \n",
       "4  Transferred money over from another account. M...  NEGATIVE   \n",
       "\n",
       "                                  words_entity_spacy  \\\n",
       "0        [(@santanderuk, Countries, cities, states)]   \n",
       "1  [(Tony Robbins, People, including fictional), ...   \n",
       "2  [(NatWest, Companies, agencies, institutions, ...   \n",
       "3  [(about 7500, Numerals that do not fall under ...   \n",
       "4                                                 []   \n",
       "\n",
       "                                   words_entity_bert  \n",
       "0                                                 []  \n",
       "1  [(Tony, B-PER), (Robbins, I-PER), (Dean, B-PER...  \n",
       "2  [(Nat, B-ORG), (##W, I-ORG), (##est, I-ORG), (...  \n",
       "3                                                 []  \n",
       "4                                                 []  "
      ]
     },
     "execution_count": 16,
     "metadata": {},
     "output_type": "execute_result"
    }
   ],
   "source": [
    "df.head()"
   ]
  },
  {
   "cell_type": "code",
   "execution_count": 18,
   "id": "d15a4483",
   "metadata": {},
   "outputs": [],
   "source": [
    "df.to_csv(\"shivshankar_ner_results.csv\")"
   ]
  }
 ],
 "metadata": {
  "kernelspec": {
   "display_name": "Python 3 (ipykernel)",
   "language": "python",
   "name": "python3"
  },
  "language_info": {
   "codemirror_mode": {
    "name": "ipython",
    "version": 3
   },
   "file_extension": ".py",
   "mimetype": "text/x-python",
   "name": "python",
   "nbconvert_exporter": "python",
   "pygments_lexer": "ipython3",
   "version": "3.10.6"
  }
 },
 "nbformat": 4,
 "nbformat_minor": 5
}
